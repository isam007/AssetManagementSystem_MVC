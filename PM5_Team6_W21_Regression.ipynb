{
  "nbformat": 4,
  "nbformat_minor": 0,
  "metadata": {
    "colab": {
      "name": "PM5_Team6_W21",
      "provenance": [],
      "collapsed_sections": [],
      "toc_visible": true,
      "include_colab_link": true
    },
    "kernelspec": {
      "display_name": "Python 3",
      "name": "python3"
    }
  },
  "cells": [
    {
      "cell_type": "markdown",
      "metadata": {
        "id": "view-in-github",
        "colab_type": "text"
      },
      "source": [
        "<a href=\"https://colab.research.google.com/github/isam007/AssetManagementSystem_MVC/blob/master/PM5_Team6_W21_Regression.ipynb\" target=\"_parent\"><img src=\"https://colab.research.google.com/assets/colab-badge.svg\" alt=\"Open In Colab\"/></a>"
      ]
    },
    {
      "cell_type": "markdown",
      "metadata": {
        "id": "PVBB9OViQ4GW"
      },
      "source": [
        "# Set-Up and Data Preparation"
      ]
    },
    {
      "cell_type": "code",
      "metadata": {
        "colab": {
          "base_uri": "https://localhost:8080/"
        },
        "id": "zWYmZ4F7Qta2",
        "outputId": "b3beb0da-7d33-477c-acd4-cf0742689a6d"
      },
      "source": [
        "import numpy as np # for numeric computation\n",
        "import pandas as pd # for handling data in table format\n",
        "import requests # for retrieving web addresses\n",
        "import io # for storing data\n",
        "import plotly.express as px # for visualization\n",
        "import plotly.graph_objects as go #for time series\n",
        "import matplotlib.pyplot as plt\n",
        "\n",
        "\n",
        "print(\"Loading Data ...\")\n",
        "# A more robust data storage solution\n",
        "p1g_data = 'https://codytischler.com/exportdata/Plant_1_Generation_Data.csv'\n",
        "p1w_data = 'https://codytischler.com/exportdata/Plant_1_Weather_Sensor_Data.csv'\n",
        "p2g_data = 'https://codytischler.com/exportdata/Plant_2_Generation_Data.csv'\n",
        "p2w_data = 'https://codytischler.com/exportdata/Plant_2_Weather_Sensor_Data.csv'\n",
        "\n",
        "requests.get(p1g_data)\n",
        "df_p1g = pd.read_csv(p1g_data)\n",
        "df_p1g.name = 'Plant 1 Power Generation Dataframe'\n",
        "print(df_p1g.name+' loaded successfully')\n",
        "\n",
        "requests.get(p1w_data)\n",
        "df_p1w = pd.read_csv(p1w_data)\n",
        "df_p1w.name = 'Plant 1 Weather Dataframe'\n",
        "print(df_p1w.name+' loaded successfully')\n",
        "\n",
        "requests.get(p2g_data)\n",
        "df_p2g = pd.read_csv(p2g_data)\n",
        "df_p2g.name = 'Plant 2 Power Generation Dataframe'\n",
        "print(df_p2g.name+' loaded successfully')\n",
        "\n",
        "requests.get(p2w_data)\n",
        "df_p2w = pd.read_csv(p2w_data)\n",
        "df_p2w.name = 'Plant 2 Weather Dataframe'\n",
        "print(df_p2w.name+' loaded successfully')\n",
        "\n",
        "# create a list of the data frames for easy looping\n",
        "data_frames = [df_p1g, df_p2g, df_p1w, df_p2w]\n",
        "print(\"All data has been loaded\")\n",
        "\n",
        "# correct the data types\n",
        "print(\"Changing feature data types...\")\n",
        "categorical_types = ['PLANT_ID', 'SOURCE_KEY']\n",
        "for df in data_frames:\n",
        "  for c in categorical_types:\n",
        "    df[c] = df[c].astype(pd.CategoricalDtype(categories=df[c].unique()))\n",
        "c = 'DATE_TIME'\n",
        "for df in data_frames:\n",
        "  df[c] = pd.to_datetime(df[c], infer_datetime_format=True)\n",
        "print(\"Feature Data Types are changed\")\n",
        "for df in data_frames:  \n",
        "  df['MONTH_DAY'] = df['DATE_TIME'].dt.strftime('%m-%d')\n",
        "  df = df[['MONTH_DAY'] + df.columns[:-1].tolist()].copy()\n",
        "\n",
        "# Clean Plant 1 Data\n",
        "print(\"Cleaning Plant 1 Data ...\")\n",
        "df_p1g_clean = df_p1g.copy()\n",
        "df_p1g_clean = df_p1g_clean.set_index('DATE_TIME')\n",
        "df_p1g_clean = df_p1g_clean.between_time('06:00','19:00') \n",
        "df_p1g_clean.drop(columns = ['PLANT_ID', 'AC_POWER', 'TOTAL_YIELD', 'DAILY_YIELD'], inplace=True )\n",
        "df_p1g_clean = df_p1g_clean.loc[(df_p1g_clean.index.day != 26) & \n",
        "                              (df_p1g_clean.index.day != 2) & \n",
        "                              (df_p1g_clean.index.day != 3) &\n",
        "                              (df_p1g_clean.index.day != 7)]\n",
        "df_p1g_clean.drop(pd.Timestamp('2020-05-19 11:30:00')) # This line is fine for dropping specific timestamps\n",
        "print(\"Plant 1 Data Cleaned\")\n",
        "\n",
        "# Clean Plant 2 Data\n",
        "print(\"Cleaning Plant 2 Data ... \")\n",
        "df_p2g_clean = df_p2g.copy()\n",
        "df_p2g_clean = df_p2g_clean.set_index('DATE_TIME')\n",
        "df_p2g_clean = df_p2g_clean.between_time('06:00','19:00') \n",
        "df_p2g_clean.drop(columns = ['PLANT_ID', 'AC_POWER', 'TOTAL_YIELD', 'DAILY_YIELD'], inplace=True )\n",
        "## Remove 8 of 22 inverters\n",
        "df_p2g_clean = df_p2g_clean[(df_p2g_clean.SOURCE_KEY != '4UPUqMRk7TRMgml') & \n",
        "             (df_p2g_clean.SOURCE_KEY != 'IQ2d7wF4YD8zU1Q') &\n",
        "             (df_p2g_clean.SOURCE_KEY != 'xMbIugepa2P7lBB') &\n",
        "             (df_p2g_clean.SOURCE_KEY != 'mqwcsP2rE7J0TFp') & \n",
        "             (df_p2g_clean.SOURCE_KEY != 'NgDl19wMapZy17u') &\n",
        "             (df_p2g_clean.SOURCE_KEY != 'xoJJ8DcxJEcupym') &\n",
        "             (df_p2g_clean.SOURCE_KEY != 'PeE6FRyGXUgsRhN') &\n",
        "             (df_p2g_clean.SOURCE_KEY != 'Quc1TzYxW2pYoWX')]\n",
        "print(\"Plant 1 Data Cleaned\")\n",
        "\n",
        "\n",
        "# Join Plant 1 Weather and Power Data\n",
        "print(\"Joining Plant 1 Data ...\")\n",
        "## concatenate the data sets\n",
        "df_p1w = df_p1w.set_index('DATE_TIME')\n",
        "df_p1w = df_p1w.drop(columns = ['PLANT_ID','SOURCE_KEY'])\n",
        "df_p1wg = pd.concat([df_p1w, df_p1g_clean], axis=0)\n",
        "## reformat datatime\n",
        "format = '%Y-%m-%d %H:%M:%S'\n",
        "df_p1wg.index = pd.to_datetime(df_p1wg.index, format=format)\n",
        "df_p1wg = df_p1wg.set_index(pd.DatetimeIndex(df_p1wg.index))\n",
        "df_p1wg = df_p1wg.sort_index()\n",
        "## interpolate weather data into power data\n",
        "df_p1wg[\"AMBIENT_TEMPERATURE\"].interpolate(method='index', inplace=True)\n",
        "df_p1wg[\"MODULE_TEMPERATURE\"].interpolate(method='index', inplace=True)\n",
        "df_p1wg[\"IRRADIATION\"].interpolate(method='index', inplace=True)\n",
        "## drop Nans\n",
        "df_p1wg = df_p1wg.dropna()\n",
        "print(\"Plant 1 Data Joined\")\n",
        "\n",
        "# Join Plant 2 Weather and Power Data\n",
        "print(\"Joining Plant 2 Data ...\")\n",
        "## concatenate the data sets\n",
        "df_p2w = df_p2w.set_index('DATE_TIME')\n",
        "df_p2w = df_p2w.drop(columns = ['PLANT_ID','SOURCE_KEY'])\n",
        "df_p2wg = pd.concat([df_p2w, df_p2g_clean], axis=0)\n",
        "## reformat datatime\n",
        "format = '%Y-%m-%d %H:%M:%S'\n",
        "df_p2wg.index = pd.to_datetime(df_p2wg.index, format=format)\n",
        "df_p2wg = df_p2wg.set_index(pd.DatetimeIndex(df_p2wg.index))\n",
        "df_p2wg = df_p2wg.sort_index()\n",
        "## interpolate weather data into power data\n",
        "df_p2wg[\"AMBIENT_TEMPERATURE\"].interpolate(method='index', inplace=True)\n",
        "df_p2wg[\"MODULE_TEMPERATURE\"].interpolate(method='index', inplace=True)\n",
        "df_p2wg[\"IRRADIATION\"].interpolate(method='index', inplace=True)\n",
        "## drop Nans\n",
        "df_p2wg = df_p2wg.dropna()\n",
        "print(\"Plant 2 Data Joined\")"
      ],
      "execution_count": null,
      "outputs": [
        {
          "output_type": "stream",
          "text": [
            "Loading Data ...\n",
            "Plant 1 Power Generation Dataframe loaded successfully\n",
            "Plant 1 Weather Dataframe loaded successfully\n",
            "Plant 2 Power Generation Dataframe loaded successfully\n",
            "Plant 2 Weather Dataframe loaded successfully\n",
            "All data has been loaded\n",
            "Changing feature data types...\n",
            "Feature Data Types are changed\n",
            "Cleaning Plant 1 Data ...\n",
            "Plant 1 Data Cleaned\n",
            "Cleaning Plant 2 Data ... \n",
            "Plant 1 Data Cleaned\n",
            "Joining Plant 1 Data ...\n",
            "Plant 1 Data Joined\n",
            "Joining Plant 2 Data ...\n",
            "Plant 2 Data Joined\n"
          ],
          "name": "stdout"
        }
      ]
    },
    {
      "cell_type": "markdown",
      "metadata": {
        "id": "KqrbbywD_G2h"
      },
      "source": [
        "# Feature Engineering"
      ]
    },
    {
      "cell_type": "code",
      "metadata": {
        "colab": {
          "base_uri": "https://localhost:8080/"
        },
        "id": "2peCryAa-u4U",
        "outputId": "5391f392-44e1-4836-f43d-ab23ca9f9d66"
      },
      "source": [
        "plant = \"1\"\n",
        "print (\"Calculating Engineered Features for Plant \"+plant+\" ...\")\n",
        "df_copy = df_p1wg.copy()\n",
        "df_copy.reset_index(inplace=True)\n",
        "#make a new column to hold the sum of the DC_POWER\n",
        "df_copy['TOTAL_DC_POWER'] = 0.0\n",
        "df_copy['OPERATING_INVERTERS'] = 0.0\n",
        "\n",
        "# get number of rows\n",
        "n_rows = df_copy.shape[0]\n",
        "\n",
        "#create a new dataframe to save redundant calculations\n",
        "df_check = pd.DataFrame(columns= [\"DATE_TIME\", \"TOTAL_DC_POWER\", \"OPERATING_INVERTERS\"])\n",
        "last_print = -1\n",
        "# loop through all rows.\n",
        "for ii in range(0,n_rows):\n",
        "  percent_complete = round(100*ii/n_rows)\n",
        "  if (percent_complete % 10 == 0):\n",
        "    if percent_complete != last_print:\n",
        "      print(str(percent_complete)+\"% Complete\")\n",
        "      last_print = percent_complete\n",
        "  ii_date_time = df_copy[\"DATE_TIME\"].loc[ii] #get the date time for the current row ii\n",
        "  check_mask = (df_check[\"DATE_TIME\"] == ii_date_time) # make a mask to see if we have already encountered this datetime before\n",
        "  already_calculated = np.dot(check_mask,check_mask) #use this mask to return a value of 1 or zero that we can put in an if statement\n",
        "  if (already_calculated > 0.5): # use 0.5 not 1 or zero because floating points are evil i.e 0.9999999 != 1\n",
        "    # well then we have already calulated this date_time value so we just get it drom df_check and log it in\n",
        "    df_copy.loc[ii,\"TOTAL_DC_POWER\"] = np.dot(check_mask,df_check[\"TOTAL_DC_POWER\"])\n",
        "    df_copy.loc[ii,\"OPERATING_INVERTERS\"] = np.dot(check_mask,df_check[\"OPERATING_INVERTERS\"])\n",
        "  else:\n",
        "    # we have not calculated this before\n",
        "    # get a boolean mask of all the rows which have the same date time\n",
        "    mask = (df_copy[\"DATE_TIME\"] == ii_date_time).astype('float') # This gives us all the inverters operating at this datetime which we need to sum to get the total power\n",
        "    total_power = np.dot(mask,df_copy['DC_POWER']) # take the dot product of the mask with all the rows for DC_POWER which will give us the sum \n",
        "    df_copy.loc[ii,\"TOTAL_DC_POWER\"] = total_power # assign it to the row ii\n",
        "    total_inverters = np.dot(mask,mask) # take a dot product of the mask with itselft to count all the operating inverters\n",
        "    df_copy.loc[ii,\"OPERATING_INVERTERS\"] = total_inverters # assign it to the row ii\n",
        "    #now we shall add this information to our df_check so that we can use it if we need to\n",
        "    temp = pd.DataFrame([[ii_date_time, total_power, total_inverters]], columns = [\"DATE_TIME\", \"TOTAL_DC_POWER\", \"OPERATING_INVERTERS\"])\n",
        "    df_check = df_check.append(temp)\n",
        "\n",
        "# now each each inverter at the same date_time will have the 'TOTAL_DC_POWER'\n",
        "# drop the source keys\n",
        "df_copy.drop(\"SOURCE_KEY\",axis=1, inplace=True)\n",
        "df_copy.drop(\"DC_POWER\",axis=1, inplace=True)\n",
        "df_copy.drop(\"MONTH_DAY\",axis=1, inplace=True)\n",
        "\n",
        "# Now each date_time has many duplicates. drop all the duplicates\n",
        "df_copy = df_copy.drop_duplicates().copy()\n",
        "#now df_power_only has only the sum powers\n",
        "# calculate avg power per inverter\n",
        "df_copy[\"DC_POWER_PER_INVERTER\"] = df_copy[\"TOTAL_DC_POWER\"] / df_copy[\"OPERATING_INVERTERS\"]\n",
        "df_copy.drop(\"OPERATING_INVERTERS\",axis=1, inplace=True)\n",
        "df_copy.drop(\"TOTAL_DC_POWER\",axis=1, inplace=True)\n",
        "\n",
        "df_p1 = df_copy.copy()\n",
        "\n",
        "print(\"Finished calculating new features for Plant \"+plant)\n",
        "\n",
        "\n",
        "plant = \"2\"\n",
        "print (\"Calculating Engineered Features for Plant \"+plant+\" ...\")\n",
        "df_copy = df_p2wg.copy()\n",
        "df_copy.reset_index(inplace=True)\n",
        "#make a new column to hold the sum of the DC_POWER\n",
        "df_copy['TOTAL_DC_POWER'] = 0.0\n",
        "df_copy['OPERATING_INVERTERS'] = 0.0\n",
        "\n",
        "# get number of rows\n",
        "n_rows = df_copy.shape[0]\n",
        "\n",
        "#create a new dataframe to save redundant calculations\n",
        "df_check = pd.DataFrame(columns= [\"DATE_TIME\", \"TOTAL_DC_POWER\", \"OPERATING_INVERTERS\"])\n",
        "last_print = -1\n",
        "# loop through all rows.\n",
        "for ii in range(0,n_rows):\n",
        "  percent_complete = round(100*ii/n_rows)\n",
        "  if (percent_complete % 10 == 0):\n",
        "    if percent_complete != last_print:\n",
        "      print(str(percent_complete)+\"% Complete\")\n",
        "      last_print = percent_complete\n",
        "  ii_date_time = df_copy[\"DATE_TIME\"].loc[ii] #get the date time for the current row ii\n",
        "  check_mask = (df_check[\"DATE_TIME\"] == ii_date_time) # make a mask to see if we have already encountered this datetime before\n",
        "  already_calculated = np.dot(check_mask,check_mask) #use this mask to return a value of 1 or zero that we can put in an if statement\n",
        "  if (already_calculated > 0.5): # use 0.5 not 1 or zero because floating points are evil i.e 0.9999999 != 1\n",
        "    # well then we have already calulated this date_time value so we just get it drom df_check and log it in\n",
        "    df_copy.loc[ii,\"TOTAL_DC_POWER\"] = np.dot(check_mask,df_check[\"TOTAL_DC_POWER\"])\n",
        "    df_copy.loc[ii,\"OPERATING_INVERTERS\"] = np.dot(check_mask,df_check[\"OPERATING_INVERTERS\"])\n",
        "  else:\n",
        "    # we have not calculated this before\n",
        "    # get a boolean mask of all the rows which have the same date time\n",
        "    mask = (df_copy[\"DATE_TIME\"] == ii_date_time).astype('float') # This gives us all the inverters operating at this datetime which we need to sum to get the total power\n",
        "    total_power = np.dot(mask,df_copy['DC_POWER']) # take the dot product of the mask with all the rows for DC_POWER which will give us the sum \n",
        "    df_copy.loc[ii,\"TOTAL_DC_POWER\"] = total_power # assign it to the row ii\n",
        "    total_inverters = np.dot(mask,mask) # take a dot product of the mask with itselft to count all the operating inverters\n",
        "    df_copy.loc[ii,\"OPERATING_INVERTERS\"] = total_inverters # assign it to the row ii\n",
        "    #now we shall add this information to our df_check so that we can use it if we need to\n",
        "    temp = pd.DataFrame([[ii_date_time, total_power, total_inverters]], columns = [\"DATE_TIME\", \"TOTAL_DC_POWER\", \"OPERATING_INVERTERS\"])\n",
        "    df_check = df_check.append(temp)\n",
        "\n",
        "# now each each inverter at the same date_time will have the 'TOTAL_DC_POWER'\n",
        "# drop the source keys\n",
        "df_copy.drop(\"SOURCE_KEY\",axis=1, inplace=True)\n",
        "df_copy.drop(\"DC_POWER\",axis=1, inplace=True)\n",
        "df_copy.drop(\"MONTH_DAY\",axis=1, inplace=True)\n",
        "\n",
        "# Now each date_time has many duplicates. drop all the duplicates\n",
        "df_copy = df_copy.drop_duplicates().copy()\n",
        "#now df_power_only has only the sum powers\n",
        "# calculate avg power per inverter\n",
        "df_copy[\"DC_POWER_PER_INVERTER\"] = df_copy[\"TOTAL_DC_POWER\"] / df_copy[\"OPERATING_INVERTERS\"]\n",
        "df_copy.drop(\"OPERATING_INVERTERS\",axis=1, inplace=True)\n",
        "df_copy.drop(\"TOTAL_DC_POWER\",axis=1, inplace=True)\n",
        "\n",
        "df_p2 = df_copy.copy()\n",
        "\n",
        "print(\"Finished calculating new features for Plant \"+plant)\n"
      ],
      "execution_count": null,
      "outputs": [
        {
          "output_type": "stream",
          "text": [
            "Calculating Engineered Features for Plant 1 ...\n",
            "0% Complete\n",
            "10% Complete\n",
            "20% Complete\n",
            "30% Complete\n",
            "40% Complete\n",
            "50% Complete\n",
            "60% Complete\n",
            "70% Complete\n",
            "80% Complete\n",
            "90% Complete\n",
            "100% Complete\n",
            "Finished calculating new features for Plant 1\n",
            "Calculating Engineered Features for Plant 2 ...\n",
            "0% Complete\n",
            "10% Complete\n",
            "20% Complete\n",
            "30% Complete\n",
            "40% Complete\n",
            "50% Complete\n",
            "60% Complete\n",
            "70% Complete\n",
            "80% Complete\n",
            "90% Complete\n",
            "100% Complete\n",
            "Finished calculating new features for Plant 2\n"
          ],
          "name": "stdout"
        }
      ]
    },
    {
      "cell_type": "code",
      "metadata": {
        "colab": {
          "base_uri": "https://localhost:8080/",
          "height": 415
        },
        "id": "LeUWzQ2L4OIU",
        "outputId": "4fa5354f-db01-445d-c7ee-d3b9c0b12488"
      },
      "source": [
        "display(df_p1)"
      ],
      "execution_count": null,
      "outputs": [
        {
          "output_type": "display_data",
          "data": {
            "text/html": [
              "<div>\n",
              "<style scoped>\n",
              "    .dataframe tbody tr th:only-of-type {\n",
              "        vertical-align: middle;\n",
              "    }\n",
              "\n",
              "    .dataframe tbody tr th {\n",
              "        vertical-align: top;\n",
              "    }\n",
              "\n",
              "    .dataframe thead th {\n",
              "        text-align: right;\n",
              "    }\n",
              "</style>\n",
              "<table border=\"1\" class=\"dataframe\">\n",
              "  <thead>\n",
              "    <tr style=\"text-align: right;\">\n",
              "      <th></th>\n",
              "      <th>DATE_TIME</th>\n",
              "      <th>AMBIENT_TEMPERATURE</th>\n",
              "      <th>MODULE_TEMPERATURE</th>\n",
              "      <th>IRRADIATION</th>\n",
              "      <th>DC_POWER_PER_INVERTER</th>\n",
              "    </tr>\n",
              "  </thead>\n",
              "  <tbody>\n",
              "    <tr>\n",
              "      <th>0</th>\n",
              "      <td>2020-05-15 06:00:00</td>\n",
              "      <td>24.088446</td>\n",
              "      <td>22.206757</td>\n",
              "      <td>0.005887</td>\n",
              "      <td>44.864229</td>\n",
              "    </tr>\n",
              "    <tr>\n",
              "      <th>21</th>\n",
              "      <td>2020-05-15 06:15:00</td>\n",
              "      <td>24.011635</td>\n",
              "      <td>22.353459</td>\n",
              "      <td>0.022282</td>\n",
              "      <td>292.481009</td>\n",
              "    </tr>\n",
              "    <tr>\n",
              "      <th>42</th>\n",
              "      <td>2020-05-15 06:30:00</td>\n",
              "      <td>23.976731</td>\n",
              "      <td>22.893282</td>\n",
              "      <td>0.049410</td>\n",
              "      <td>694.143398</td>\n",
              "    </tr>\n",
              "    <tr>\n",
              "      <th>64</th>\n",
              "      <td>2020-05-15 06:45:00</td>\n",
              "      <td>24.218990</td>\n",
              "      <td>24.442444</td>\n",
              "      <td>0.095394</td>\n",
              "      <td>1301.208604</td>\n",
              "    </tr>\n",
              "    <tr>\n",
              "      <th>86</th>\n",
              "      <td>2020-05-15 07:00:00</td>\n",
              "      <td>24.537398</td>\n",
              "      <td>27.185653</td>\n",
              "      <td>0.141940</td>\n",
              "      <td>1879.359740</td>\n",
              "    </tr>\n",
              "    <tr>\n",
              "      <th>...</th>\n",
              "      <td>...</td>\n",
              "      <td>...</td>\n",
              "      <td>...</td>\n",
              "      <td>...</td>\n",
              "      <td>...</td>\n",
              "    </tr>\n",
              "    <tr>\n",
              "      <th>33874</th>\n",
              "      <td>2020-06-17 18:00:00</td>\n",
              "      <td>24.130349</td>\n",
              "      <td>25.080925</td>\n",
              "      <td>0.041940</td>\n",
              "      <td>605.090909</td>\n",
              "    </tr>\n",
              "    <tr>\n",
              "      <th>33896</th>\n",
              "      <td>2020-06-17 18:15:00</td>\n",
              "      <td>24.038157</td>\n",
              "      <td>24.068250</td>\n",
              "      <td>0.023446</td>\n",
              "      <td>338.664773</td>\n",
              "    </tr>\n",
              "    <tr>\n",
              "      <th>33918</th>\n",
              "      <td>2020-06-17 18:30:00</td>\n",
              "      <td>23.840239</td>\n",
              "      <td>22.968658</td>\n",
              "      <td>0.007007</td>\n",
              "      <td>78.116883</td>\n",
              "    </tr>\n",
              "    <tr>\n",
              "      <th>33940</th>\n",
              "      <td>2020-06-17 18:45:00</td>\n",
              "      <td>23.583049</td>\n",
              "      <td>22.460372</td>\n",
              "      <td>0.000039</td>\n",
              "      <td>0.000000</td>\n",
              "    </tr>\n",
              "    <tr>\n",
              "      <th>33962</th>\n",
              "      <td>2020-06-17 19:00:00</td>\n",
              "      <td>23.474888</td>\n",
              "      <td>22.423350</td>\n",
              "      <td>0.000000</td>\n",
              "      <td>0.000000</td>\n",
              "    </tr>\n",
              "  </tbody>\n",
              "</table>\n",
              "<p>1558 rows × 5 columns</p>\n",
              "</div>"
            ],
            "text/plain": [
              "                DATE_TIME  ...  DC_POWER_PER_INVERTER\n",
              "0     2020-05-15 06:00:00  ...              44.864229\n",
              "21    2020-05-15 06:15:00  ...             292.481009\n",
              "42    2020-05-15 06:30:00  ...             694.143398\n",
              "64    2020-05-15 06:45:00  ...            1301.208604\n",
              "86    2020-05-15 07:00:00  ...            1879.359740\n",
              "...                   ...  ...                    ...\n",
              "33874 2020-06-17 18:00:00  ...             605.090909\n",
              "33896 2020-06-17 18:15:00  ...             338.664773\n",
              "33918 2020-06-17 18:30:00  ...              78.116883\n",
              "33940 2020-06-17 18:45:00  ...               0.000000\n",
              "33962 2020-06-17 19:00:00  ...               0.000000\n",
              "\n",
              "[1558 rows x 5 columns]"
            ]
          },
          "metadata": {
            "tags": []
          }
        }
      ]
    },
    {
      "cell_type": "markdown",
      "metadata": {
        "id": "L8vfVIgokyr0"
      },
      "source": [
        "#PM5. Project Assignment: Linear Regression"
      ]
    },
    {
      "cell_type": "markdown",
      "metadata": {
        "id": "z58DgfTHk1bn"
      },
      "source": [
        "The objective of this assignment is for you to perform a complete implementation of linear\n",
        "regression using your group’s chosen dataset."
      ]
    },
    {
      "cell_type": "markdown",
      "metadata": {
        "id": "WXyEgykuk_nF"
      },
      "source": [
        "## Prior to QuAM Building:\n",
        "\n",
        "\n"
      ]
    },
    {
      "cell_type": "code",
      "metadata": {
        "colab": {
          "base_uri": "https://localhost:8080/",
          "height": 415
        },
        "id": "Qi0mi5X2sAjo",
        "outputId": "aec63b97-8828-49c3-b898-9d5581249dc9"
      },
      "source": [
        "df = df_p1.copy()\n",
        "display(df)"
      ],
      "execution_count": null,
      "outputs": [
        {
          "output_type": "display_data",
          "data": {
            "text/html": [
              "<div>\n",
              "<style scoped>\n",
              "    .dataframe tbody tr th:only-of-type {\n",
              "        vertical-align: middle;\n",
              "    }\n",
              "\n",
              "    .dataframe tbody tr th {\n",
              "        vertical-align: top;\n",
              "    }\n",
              "\n",
              "    .dataframe thead th {\n",
              "        text-align: right;\n",
              "    }\n",
              "</style>\n",
              "<table border=\"1\" class=\"dataframe\">\n",
              "  <thead>\n",
              "    <tr style=\"text-align: right;\">\n",
              "      <th></th>\n",
              "      <th>DATE_TIME</th>\n",
              "      <th>AMBIENT_TEMPERATURE</th>\n",
              "      <th>MODULE_TEMPERATURE</th>\n",
              "      <th>IRRADIATION</th>\n",
              "      <th>DC_POWER_PER_INVERTER</th>\n",
              "    </tr>\n",
              "  </thead>\n",
              "  <tbody>\n",
              "    <tr>\n",
              "      <th>0</th>\n",
              "      <td>2020-05-15 06:00:00</td>\n",
              "      <td>24.088446</td>\n",
              "      <td>22.206757</td>\n",
              "      <td>0.005887</td>\n",
              "      <td>44.864229</td>\n",
              "    </tr>\n",
              "    <tr>\n",
              "      <th>21</th>\n",
              "      <td>2020-05-15 06:15:00</td>\n",
              "      <td>24.011635</td>\n",
              "      <td>22.353459</td>\n",
              "      <td>0.022282</td>\n",
              "      <td>292.481009</td>\n",
              "    </tr>\n",
              "    <tr>\n",
              "      <th>42</th>\n",
              "      <td>2020-05-15 06:30:00</td>\n",
              "      <td>23.976731</td>\n",
              "      <td>22.893282</td>\n",
              "      <td>0.049410</td>\n",
              "      <td>694.143398</td>\n",
              "    </tr>\n",
              "    <tr>\n",
              "      <th>64</th>\n",
              "      <td>2020-05-15 06:45:00</td>\n",
              "      <td>24.218990</td>\n",
              "      <td>24.442444</td>\n",
              "      <td>0.095394</td>\n",
              "      <td>1301.208604</td>\n",
              "    </tr>\n",
              "    <tr>\n",
              "      <th>86</th>\n",
              "      <td>2020-05-15 07:00:00</td>\n",
              "      <td>24.537398</td>\n",
              "      <td>27.185653</td>\n",
              "      <td>0.141940</td>\n",
              "      <td>1879.359740</td>\n",
              "    </tr>\n",
              "    <tr>\n",
              "      <th>...</th>\n",
              "      <td>...</td>\n",
              "      <td>...</td>\n",
              "      <td>...</td>\n",
              "      <td>...</td>\n",
              "      <td>...</td>\n",
              "    </tr>\n",
              "    <tr>\n",
              "      <th>33874</th>\n",
              "      <td>2020-06-17 18:00:00</td>\n",
              "      <td>24.130349</td>\n",
              "      <td>25.080925</td>\n",
              "      <td>0.041940</td>\n",
              "      <td>605.090909</td>\n",
              "    </tr>\n",
              "    <tr>\n",
              "      <th>33896</th>\n",
              "      <td>2020-06-17 18:15:00</td>\n",
              "      <td>24.038157</td>\n",
              "      <td>24.068250</td>\n",
              "      <td>0.023446</td>\n",
              "      <td>338.664773</td>\n",
              "    </tr>\n",
              "    <tr>\n",
              "      <th>33918</th>\n",
              "      <td>2020-06-17 18:30:00</td>\n",
              "      <td>23.840239</td>\n",
              "      <td>22.968658</td>\n",
              "      <td>0.007007</td>\n",
              "      <td>78.116883</td>\n",
              "    </tr>\n",
              "    <tr>\n",
              "      <th>33940</th>\n",
              "      <td>2020-06-17 18:45:00</td>\n",
              "      <td>23.583049</td>\n",
              "      <td>22.460372</td>\n",
              "      <td>0.000039</td>\n",
              "      <td>0.000000</td>\n",
              "    </tr>\n",
              "    <tr>\n",
              "      <th>33962</th>\n",
              "      <td>2020-06-17 19:00:00</td>\n",
              "      <td>23.474888</td>\n",
              "      <td>22.423350</td>\n",
              "      <td>0.000000</td>\n",
              "      <td>0.000000</td>\n",
              "    </tr>\n",
              "  </tbody>\n",
              "</table>\n",
              "<p>1558 rows × 5 columns</p>\n",
              "</div>"
            ],
            "text/plain": [
              "                DATE_TIME  ...  DC_POWER_PER_INVERTER\n",
              "0     2020-05-15 06:00:00  ...              44.864229\n",
              "21    2020-05-15 06:15:00  ...             292.481009\n",
              "42    2020-05-15 06:30:00  ...             694.143398\n",
              "64    2020-05-15 06:45:00  ...            1301.208604\n",
              "86    2020-05-15 07:00:00  ...            1879.359740\n",
              "...                   ...  ...                    ...\n",
              "33874 2020-06-17 18:00:00  ...             605.090909\n",
              "33896 2020-06-17 18:15:00  ...             338.664773\n",
              "33918 2020-06-17 18:30:00  ...              78.116883\n",
              "33940 2020-06-17 18:45:00  ...               0.000000\n",
              "33962 2020-06-17 19:00:00  ...               0.000000\n",
              "\n",
              "[1558 rows x 5 columns]"
            ]
          },
          "metadata": {
            "tags": []
          }
        }
      ]
    },
    {
      "cell_type": "code",
      "metadata": {
        "id": "AMZ9pJO5zYm8"
      },
      "source": [
        "#Convert Date_Time into numeric values\n",
        "\n",
        "df['NUMERIC_TIME'] = 0.0\n",
        "df['NUMERIC_TIME'] =  (df['DATE_TIME'] - pd.to_datetime(df['DATE_TIME']).dt.floor('d')).astype('timedelta64[m]').astype(float)\n",
        "df = df[['NUMERIC_TIME'] + df.columns[:-1].tolist()].copy()\n"
      ],
      "execution_count": null,
      "outputs": []
    },
    {
      "cell_type": "code",
      "metadata": {
        "id": "wpV4oZ2X9bg1"
      },
      "source": [
        "#These variables are to be used for the plot labels later\n",
        "inputs = df.drop('DC_POWER_PER_INVERTER',axis='columns')\n",
        "feature_names = inputs.columns.tolist()\n",
        "target = df['DC_POWER_PER_INVERTER']\n",
        "target_name = 'DCPower'"
      ],
      "execution_count": null,
      "outputs": []
    },
    {
      "cell_type": "code",
      "metadata": {
        "id": "vC41Q3QArmBV"
      },
      "source": [
        "df.drop('DATE_TIME',axis=1, inplace=True)\n",
        "df.drop('MODULE_TEMPERATURE',axis=1, inplace=True)\n",
        "#df.drop('DC_POWER_PER_INVERTER',axis=1, inplace=True)"
      ],
      "execution_count": null,
      "outputs": []
    },
    {
      "cell_type": "code",
      "metadata": {
        "colab": {
          "base_uri": "https://localhost:8080/",
          "height": 415
        },
        "id": "p3ie7Mwqm1Hf",
        "outputId": "b6bd0809-bbc4-4388-f20e-adf124d8ef3c"
      },
      "source": [
        "display(df)"
      ],
      "execution_count": null,
      "outputs": [
        {
          "output_type": "display_data",
          "data": {
            "text/html": [
              "<div>\n",
              "<style scoped>\n",
              "    .dataframe tbody tr th:only-of-type {\n",
              "        vertical-align: middle;\n",
              "    }\n",
              "\n",
              "    .dataframe tbody tr th {\n",
              "        vertical-align: top;\n",
              "    }\n",
              "\n",
              "    .dataframe thead th {\n",
              "        text-align: right;\n",
              "    }\n",
              "</style>\n",
              "<table border=\"1\" class=\"dataframe\">\n",
              "  <thead>\n",
              "    <tr style=\"text-align: right;\">\n",
              "      <th></th>\n",
              "      <th>NUMERIC_TIME</th>\n",
              "      <th>AMBIENT_TEMPERATURE</th>\n",
              "      <th>IRRADIATION</th>\n",
              "      <th>DC_POWER_PER_INVERTER</th>\n",
              "    </tr>\n",
              "  </thead>\n",
              "  <tbody>\n",
              "    <tr>\n",
              "      <th>0</th>\n",
              "      <td>360.0</td>\n",
              "      <td>24.088446</td>\n",
              "      <td>0.005887</td>\n",
              "      <td>44.864229</td>\n",
              "    </tr>\n",
              "    <tr>\n",
              "      <th>21</th>\n",
              "      <td>375.0</td>\n",
              "      <td>24.011635</td>\n",
              "      <td>0.022282</td>\n",
              "      <td>292.481009</td>\n",
              "    </tr>\n",
              "    <tr>\n",
              "      <th>42</th>\n",
              "      <td>390.0</td>\n",
              "      <td>23.976731</td>\n",
              "      <td>0.049410</td>\n",
              "      <td>694.143398</td>\n",
              "    </tr>\n",
              "    <tr>\n",
              "      <th>64</th>\n",
              "      <td>405.0</td>\n",
              "      <td>24.218990</td>\n",
              "      <td>0.095394</td>\n",
              "      <td>1301.208604</td>\n",
              "    </tr>\n",
              "    <tr>\n",
              "      <th>86</th>\n",
              "      <td>420.0</td>\n",
              "      <td>24.537398</td>\n",
              "      <td>0.141940</td>\n",
              "      <td>1879.359740</td>\n",
              "    </tr>\n",
              "    <tr>\n",
              "      <th>...</th>\n",
              "      <td>...</td>\n",
              "      <td>...</td>\n",
              "      <td>...</td>\n",
              "      <td>...</td>\n",
              "    </tr>\n",
              "    <tr>\n",
              "      <th>33874</th>\n",
              "      <td>1080.0</td>\n",
              "      <td>24.130349</td>\n",
              "      <td>0.041940</td>\n",
              "      <td>605.090909</td>\n",
              "    </tr>\n",
              "    <tr>\n",
              "      <th>33896</th>\n",
              "      <td>1095.0</td>\n",
              "      <td>24.038157</td>\n",
              "      <td>0.023446</td>\n",
              "      <td>338.664773</td>\n",
              "    </tr>\n",
              "    <tr>\n",
              "      <th>33918</th>\n",
              "      <td>1110.0</td>\n",
              "      <td>23.840239</td>\n",
              "      <td>0.007007</td>\n",
              "      <td>78.116883</td>\n",
              "    </tr>\n",
              "    <tr>\n",
              "      <th>33940</th>\n",
              "      <td>1125.0</td>\n",
              "      <td>23.583049</td>\n",
              "      <td>0.000039</td>\n",
              "      <td>0.000000</td>\n",
              "    </tr>\n",
              "    <tr>\n",
              "      <th>33962</th>\n",
              "      <td>1140.0</td>\n",
              "      <td>23.474888</td>\n",
              "      <td>0.000000</td>\n",
              "      <td>0.000000</td>\n",
              "    </tr>\n",
              "  </tbody>\n",
              "</table>\n",
              "<p>1558 rows × 4 columns</p>\n",
              "</div>"
            ],
            "text/plain": [
              "       NUMERIC_TIME  AMBIENT_TEMPERATURE  IRRADIATION  DC_POWER_PER_INVERTER\n",
              "0             360.0            24.088446     0.005887              44.864229\n",
              "21            375.0            24.011635     0.022282             292.481009\n",
              "42            390.0            23.976731     0.049410             694.143398\n",
              "64            405.0            24.218990     0.095394            1301.208604\n",
              "86            420.0            24.537398     0.141940            1879.359740\n",
              "...             ...                  ...          ...                    ...\n",
              "33874        1080.0            24.130349     0.041940             605.090909\n",
              "33896        1095.0            24.038157     0.023446             338.664773\n",
              "33918        1110.0            23.840239     0.007007              78.116883\n",
              "33940        1125.0            23.583049     0.000039               0.000000\n",
              "33962        1140.0            23.474888     0.000000               0.000000\n",
              "\n",
              "[1558 rows x 4 columns]"
            ]
          },
          "metadata": {
            "tags": []
          }
        }
      ]
    },
    {
      "cell_type": "code",
      "metadata": {
        "colab": {
          "base_uri": "https://localhost:8080/"
        },
        "id": "3sNy58dn9u92",
        "outputId": "1cee2939-0336-452a-859c-52282a06f447"
      },
      "source": [
        "target"
      ],
      "execution_count": null,
      "outputs": [
        {
          "output_type": "execute_result",
          "data": {
            "text/plain": [
              "0          44.864229\n",
              "21        292.481009\n",
              "42        694.143398\n",
              "64       1301.208604\n",
              "86       1879.359740\n",
              "            ...     \n",
              "33874     605.090909\n",
              "33896     338.664773\n",
              "33918      78.116883\n",
              "33940       0.000000\n",
              "33962       0.000000\n",
              "Name: DC_POWER_PER_INVERTER, Length: 1558, dtype: float64"
            ]
          },
          "metadata": {
            "tags": []
          },
          "execution_count": 9
        }
      ]
    },
    {
      "cell_type": "markdown",
      "metadata": {
        "id": "zVL3OPAeo0g-"
      },
      "source": [
        "\n",
        "## Splitting data into testing and training."
      ]
    },
    {
      "cell_type": "code",
      "metadata": {
        "id": "D03svtmxlO_w"
      },
      "source": [
        "#Split Dataset into training and test data\n",
        "from sklearn.model_selection import train_test_split\n",
        "\n",
        "df_train, df_test = train_test_split(df, random_state=0)\n",
        "\n",
        "X_train = df_train.iloc[:, :-1].values #all but last column\n",
        "y_train = df_train.iloc[:, -1].values  #last column\n",
        "\n",
        "X_test = df_test.iloc[:, :-1].values\n",
        "y_test = df_test.iloc[:, -1].values\n",
        "\n",
        "X = df.iloc[:, :-1].values\n",
        "y = df.iloc[:, -1].values"
      ],
      "execution_count": null,
      "outputs": []
    },
    {
      "cell_type": "code",
      "metadata": {
        "colab": {
          "base_uri": "https://localhost:8080/",
          "height": 138
        },
        "id": "L4y1xsxVuKhG",
        "outputId": "380d6722-c891-47c0-b85b-3ab7579234e0"
      },
      "source": [
        "display(X_train)"
      ],
      "execution_count": null,
      "outputs": [
        {
          "output_type": "display_data",
          "data": {
            "text/plain": [
              "array([[8.40000000e+02, 2.99116638e+01, 6.44802365e-01],\n",
              "       [1.05000000e+03, 2.59601472e+01, 1.01433166e-01],\n",
              "       [9.30000000e+02, 3.20721654e+01, 5.63544357e-01],\n",
              "       ...,\n",
              "       [7.65000000e+02, 2.76670817e+01, 3.84930638e-01],\n",
              "       [4.35000000e+02, 2.47110291e+01, 1.54212341e-01],\n",
              "       [7.35000000e+02, 2.99806071e+01, 7.11932499e-01]])"
            ]
          },
          "metadata": {
            "tags": []
          }
        }
      ]
    },
    {
      "cell_type": "code",
      "metadata": {
        "colab": {
          "base_uri": "https://localhost:8080/"
        },
        "id": "ecduQ3BlU-9p",
        "outputId": "867b3be4-7512-41c4-915b-2ead2e510737"
      },
      "source": [
        "y_train"
      ],
      "execution_count": null,
      "outputs": [
        {
          "output_type": "execute_result",
          "data": {
            "text/plain": [
              "array([ 9034.46103895,  1488.56590909,  7443.25487009, ...,\n",
              "        5811.92613636,  1957.140422  , 10191.84415591])"
            ]
          },
          "metadata": {
            "tags": []
          },
          "execution_count": 12
        }
      ]
    },
    {
      "cell_type": "markdown",
      "metadata": {
        "id": "9Wn7rIp4VcGh"
      },
      "source": [
        "## Linear Regression QuAM\n",
        "\n",
        "\n",
        "\n"
      ]
    },
    {
      "cell_type": "markdown",
      "metadata": {
        "id": "sLaQ03xy6FfE"
      },
      "source": [
        "###sklearn.linear_model.LinearRegression"
      ]
    },
    {
      "cell_type": "markdown",
      "metadata": {
        "id": "vSJ6KTR3slQX"
      },
      "source": [
        "1. Use scikit-learn’s sklearn.linear_model.LinearRegression to implement alinear surface for your dataset. \n"
      ]
    },
    {
      "cell_type": "code",
      "metadata": {
        "id": "5xC-mvxUtFu-"
      },
      "source": [
        "from sklearn.linear_model import LinearRegression\n",
        "from sklearn import metrics"
      ],
      "execution_count": null,
      "outputs": []
    },
    {
      "cell_type": "code",
      "metadata": {
        "colab": {
          "base_uri": "https://localhost:8080/",
          "height": 229
        },
        "id": "7gRkNkL0Fxpa",
        "outputId": "804f7268-7251-411a-dbb5-8723b93000ef"
      },
      "source": [
        "linear_regressor = LinearRegression()\n",
        "\n",
        "linear_regressor.fit(X, y)\n",
        "\n",
        "print(\"b : \", linear_regressor.intercept_)\n",
        "print(\"w :\", linear_regressor.coef_)\n",
        "\n",
        "yhat_train = linear_regressor.predict(X_train)\n",
        "yhat_test = linear_regressor.predict(X_test)\n",
        "\n",
        "print('MAE:', metrics.mean_absolute_error(y_test, yhat_test))\n",
        "print('MSE:', metrics.mean_squared_error(y_test, yhat_test))\n",
        "print('RMSE:', np.sqrt(metrics.mean_squared_error(y_test, yhat_test)))\n",
        "print('R2:', metrics.r2_score(y_test, yhat_test))"
      ],
      "execution_count": null,
      "outputs": [
        {
          "output_type": "error",
          "ename": "NameError",
          "evalue": "ignored",
          "traceback": [
            "\u001b[0;31m---------------------------------------------------------------------------\u001b[0m",
            "\u001b[0;31mNameError\u001b[0m                                 Traceback (most recent call last)",
            "\u001b[0;32m<ipython-input-3-2d26632b5b50>\u001b[0m in \u001b[0;36m<module>\u001b[0;34m()\u001b[0m\n\u001b[1;32m      1\u001b[0m \u001b[0mlinear_regressor\u001b[0m \u001b[0;34m=\u001b[0m \u001b[0mLinearRegression\u001b[0m\u001b[0;34m(\u001b[0m\u001b[0;34m)\u001b[0m\u001b[0;34m\u001b[0m\u001b[0;34m\u001b[0m\u001b[0m\n\u001b[1;32m      2\u001b[0m \u001b[0;34m\u001b[0m\u001b[0m\n\u001b[0;32m----> 3\u001b[0;31m \u001b[0mlinear_regressor\u001b[0m\u001b[0;34m.\u001b[0m\u001b[0mfit\u001b[0m\u001b[0;34m(\u001b[0m\u001b[0mX\u001b[0m\u001b[0;34m,\u001b[0m \u001b[0my\u001b[0m\u001b[0;34m)\u001b[0m\u001b[0;34m\u001b[0m\u001b[0;34m\u001b[0m\u001b[0m\n\u001b[0m\u001b[1;32m      4\u001b[0m \u001b[0;34m\u001b[0m\u001b[0m\n\u001b[1;32m      5\u001b[0m \u001b[0mprint\u001b[0m\u001b[0;34m(\u001b[0m\u001b[0;34m\"b : \"\u001b[0m\u001b[0;34m,\u001b[0m \u001b[0mlinear_regressor\u001b[0m\u001b[0;34m.\u001b[0m\u001b[0mintercept_\u001b[0m\u001b[0;34m)\u001b[0m\u001b[0;34m\u001b[0m\u001b[0;34m\u001b[0m\u001b[0m\n",
            "\u001b[0;31mNameError\u001b[0m: name 'X' is not defined"
          ]
        }
      ]
    },
    {
      "cell_type": "markdown",
      "metadata": {
        "id": "ZNlfBrNNGKf6"
      },
      "source": [
        "Let's visualize the surface:\n"
      ]
    },
    {
      "cell_type": "code",
      "metadata": {
        "id": "V4-xruWT51hY"
      },
      "source": [
        "#Lets figure out the shape of our data\n",
        "m = X.shape[0]\n",
        "n = X.shape[1]\n",
        "\n",
        "X_b = np.c_[np.ones((m, 1)), X]\n",
        "n_b = n + 1\n",
        "\n",
        "#Now, we can implement the gradient descent algorithm. Let's set values for constants involved in GD:\n",
        "\n",
        "tolerance = 0.01 # the desired level of precision to stop at\n",
        "alpha = 0.1 # step size (or learning rate)\n",
        "\n",
        "#Let's take a random starting point:\n",
        "np.random.seed(42) # for experiment control purposes\n",
        "w_b_0 = np.random.normal(0.0, 1.0, (n_b, 1))\n",
        "\n",
        "#Let's use that to initialize our weights:\n",
        "w_b = w_b_0\n",
        "w_b\n",
        "\n",
        "#Let's calculate our error and loss with this random starting point. We have to first predict the label for the points:\n",
        "yhat = X_b @ w_b\n",
        "#Then we can use that prediction to calculate the difference between  y^  and  y  and the loss:\n",
        "y_diff = yhat - y\n",
        "loss = (y_diff.T @ y_diff)[0, 0] / m\n",
        "\n",
        "#We also need to define a loss before the current step in order to have a valid loop condition for the main potimization loop\n",
        "old_loss = np.infty\n",
        "\n",
        "#Main Loop\n",
        "while np.abs(old_loss - loss) > tolerance: # stops when the change in losses in\n",
        "                                           # two consecutive steps is less than\n",
        "                                           # the predefined tolerance.\n",
        "  dJdw = 2 * (X_b.T @ y_diff) / m # the gradient, using the formula found\n",
        "  #w_b -= alpha * dJdw # gradient descent\n",
        "  old_loss = loss # updating old loss\n",
        "  yhat = X_b @ w_b # updating the prediction\n",
        "  y_diff = yhat - y\n",
        "  loss = (y_diff.T @ y_diff)[0, 0] / m # new loss\n",
        "\n",
        "#Let's visualize the linear surface:\n",
        "\n",
        "x_vis_1_range = np.linspace(-1.0, 1.0, 100)\n",
        "x_vis_2_range = np.linspace(-1.0, 1.0, 100)\n",
        "#x_vis_3_range = np.linspace(-1.0, 1.0, 100) #IS added to fix dimension mismatch\n",
        "\n",
        "XX_vis_1, XX_vis_2 = np.meshgrid(x_vis_1_range, x_vis_2_range)\n",
        "#XX_vis_1, XX_vis_2, XX_vis_3 = np.meshgrid(x_vis_1_range, x_vis_2_range, x_vis_3_range) #IS added to fix dimension mismatch\n",
        "X_vis = np.c_[XX_vis_1.flatten(), XX_vis_2.flatten()]\n",
        "#X_vis = np.c_[XX_vis_1.flatten(), XX_vis_2.flatten(), XX_vis_3.flatten()] #IS added to fix dimension mismatch\n",
        "grid_shape = XX_vis_2.shape\n",
        "column_shape = XX_vis_1.flatten().shape\n",
        "\n",
        "X_vis_b = np.c_[np.ones(column_shape), X_vis]"
      ],
      "execution_count": null,
      "outputs": []
    },
    {
      "cell_type": "code",
      "metadata": {
        "colab": {
          "base_uri": "https://localhost:8080/"
        },
        "id": "E0tgXVIt6QIk",
        "outputId": "6eef165d-f2f2-4493-c8ac-42fb931ce153"
      },
      "source": [
        "grid_shape"
      ],
      "execution_count": null,
      "outputs": [
        {
          "output_type": "execute_result",
          "data": {
            "text/plain": [
              "(100, 100)"
            ]
          },
          "metadata": {
            "tags": []
          },
          "execution_count": 16
        }
      ]
    },
    {
      "cell_type": "code",
      "metadata": {
        "colab": {
          "base_uri": "https://localhost:8080/"
        },
        "id": "_nFrodf3Gxxb",
        "outputId": "be060404-00b5-42c0-fff7-baf91ebdbec9"
      },
      "source": [
        "X_vis\n"
      ],
      "execution_count": null,
      "outputs": [
        {
          "output_type": "execute_result",
          "data": {
            "text/plain": [
              "array([[-1.        , -1.        ],\n",
              "       [-0.97979798, -1.        ],\n",
              "       [-0.95959596, -1.        ],\n",
              "       ...,\n",
              "       [ 0.95959596,  1.        ],\n",
              "       [ 0.97979798,  1.        ],\n",
              "       [ 1.        ,  1.        ]])"
            ]
          },
          "metadata": {
            "tags": []
          },
          "execution_count": 17
        }
      ]
    },
    {
      "cell_type": "code",
      "metadata": {
        "id": "KBoRpDlTGMSr"
      },
      "source": [
        "\n",
        "#_______________________\n",
        "#Rakesh's code below\n",
        "\n",
        "y_vis = linear_regressor.predict(X_vis)\n",
        "YY_vis = y_vis.reshape(grid_shape)\n",
        "\n",
        "\n",
        "\n",
        "fig = go.Figure()\n",
        "\n",
        "fig.add_trace(go.Scatter3d(x=X_b[:, 1],\n",
        "                          y=X_b[:, 2],\n",
        "                          z=y[:, 0],\n",
        "                          mode='markers',\n",
        "                          marker=dict(color=(y_diff ** 2)[:, 0],\n",
        "                                      colorscale='Teal',\n",
        "                                      opacity=0.75\n",
        "                                     )\n",
        "                         )\n",
        "            )\n",
        "fig.add_trace(go.Surface(x=x_vis_2_range,\n",
        "                        y=x_vis_3_range,\n",
        "                        z=YY_vis, \n",
        "                        showscale=False\n",
        "                       )\n",
        "            )\n",
        "\n",
        "fig.update_layout(scene=dict(xaxis_title=\"x_1\",\n",
        "                            yaxis_title=\"x_2\",\n",
        "                            zaxis_title=\"y\"\n",
        "                           ),\n",
        "                 showlegend=False\n",
        "                )\n",
        "\n",
        "fig.show()"
      ],
      "execution_count": null,
      "outputs": []
    },
    {
      "cell_type": "markdown",
      "metadata": {
        "id": "r0SRhOB-fsv9"
      },
      "source": [
        "###sklearn.linear_model.Ridge"
      ]
    },
    {
      "cell_type": "markdown",
      "metadata": {
        "id": "GQM8e_yjs4q9"
      },
      "source": [
        "2. Use scikit-learn’s sklearn.linear_model.Ridge to implement linear least squares with L2 regularization for your dataset using the default parameters.\n"
      ]
    },
    {
      "cell_type": "code",
      "metadata": {
        "colab": {
          "base_uri": "https://localhost:8080/"
        },
        "id": "lKSvUH6NZg0b",
        "outputId": "88191ebf-b3d9-4672-fcf3-02c6edf99220"
      },
      "source": [
        "from sklearn.linear_model import Ridge\n",
        "ridge_regressor = Ridge()\n",
        "ridge_regressor.fit(X, y)\n",
        "\n",
        "print(\"b :\", ridge_regressor.intercept_)  #IS: got rid of 0\n",
        "print(\"w :\", ridge_regressor.coef_)\n",
        "\n",
        "from sklearn import metrics\n",
        "yhat_train = ridge_regressor.predict(X_train)\n",
        "yhat_test = ridge_regressor.predict(X_test)\n",
        "print('MAE:', metrics.mean_absolute_error(y_test, yhat_test))\n",
        "print('MSE:', metrics.mean_squared_error(y_test, yhat_test))\n",
        "print('RMSE:', np.sqrt(metrics.mean_squared_error(y_test, yhat_test)))\n",
        "print('R2:', metrics.r2_score(y_test, yhat_test))"
      ],
      "execution_count": null,
      "outputs": [
        {
          "output_type": "stream",
          "text": [
            "b : -217.96471419132013\n",
            "w : [-1.74138957e-01  2.48566994e+01  1.27350894e+04]\n",
            "MAE: 302.8342670067443\n",
            "MSE: 193896.24348369596\n",
            "RMSE: 440.33651164046796\n",
            "R2: 0.9865718101107295\n"
          ],
          "name": "stdout"
        }
      ]
    },
    {
      "cell_type": "markdown",
      "metadata": {
        "id": "dsDbxcYqs5Ay"
      },
      "source": [
        "3. Use scikit-learn’s sklearn.linear_model.Ridge to implement linear least squares with L2 regularization for your dataset tweak the value of alpha and report your findings."
      ]
    },
    {
      "cell_type": "code",
      "metadata": {
        "id": "2thkSEnttGyL"
      },
      "source": [
        "from sklearn.linear_model import Ridge"
      ],
      "execution_count": null,
      "outputs": []
    },
    {
      "cell_type": "code",
      "metadata": {
        "colab": {
          "base_uri": "https://localhost:8080/"
        },
        "id": "fOMGIH9AHLv1",
        "outputId": "ed2aa903-3911-4146-e4a2-beed28f6e24f"
      },
      "source": [
        "lambda_ridge = 0.1\n",
        "ridge_regressor = Ridge(alpha=lambda_ridge)\n",
        "ridge_regressor.fit(X, y)\n",
        "\n",
        "print(\"b :\", ridge_regressor.intercept_)  #IS: got rid of 0\n",
        "print(\"w :\", ridge_regressor.coef_)"
      ],
      "execution_count": null,
      "outputs": [
        {
          "output_type": "stream",
          "text": [
            "b : -1.4452683225899818\n",
            "w : [-3.78220490e-02  1.05703659e+01  1.29182949e+04]\n"
          ],
          "name": "stdout"
        }
      ]
    },
    {
      "cell_type": "code",
      "metadata": {
        "colab": {
          "base_uri": "https://localhost:8080/"
        },
        "id": "5CpgeohviZH7",
        "outputId": "707b5c79-e374-4fbe-9117-e6e3ee812db3"
      },
      "source": [
        "from sklearn import metrics\n",
        "yhat_train = ridge_regressor.predict(X_train)\n",
        "yhat_test = ridge_regressor.predict(X_test)\n",
        "print('MAE:', metrics.mean_absolute_error(y_test, yhat_test))\n",
        "print('MSE:', metrics.mean_squared_error(y_test, yhat_test))\n",
        "print('RMSE:', np.sqrt(metrics.mean_squared_error(y_test, yhat_test)))\n",
        "print('R2:', metrics.r2_score(y_test, yhat_test))"
      ],
      "execution_count": null,
      "outputs": [
        {
          "output_type": "stream",
          "text": [
            "MAE: 295.36534091398653\n",
            "MSE: 195055.36485626874\n",
            "RMSE: 441.6507272226196\n",
            "R2: 0.9864915357247178\n"
          ],
          "name": "stdout"
        }
      ]
    },
    {
      "cell_type": "markdown",
      "metadata": {
        "id": "sGt3hoakHrKQ"
      },
      "source": [
        "Let's visualize that as well:\n"
      ]
    },
    {
      "cell_type": "code",
      "metadata": {
        "id": "Qkjdjuq_Hs5r"
      },
      "source": [
        "y_vis = ridge_regressor.predict(X_vis)\n",
        "YY_vis = y_vis.reshape(grid_shape)\n",
        "\n",
        "fig = go.Figure()\n",
        "\n",
        "fig.add_trace(go.Scatter3d(x=X_b[:, 1],\n",
        "                          y=X_b[:, 2],\n",
        "                          z=y[:, 0],\n",
        "                          mode='markers',\n",
        "                          marker=dict(color=(y_diff ** 2)[:, 0],\n",
        "                                      colorscale='Teal',\n",
        "                                      opacity=0.75\n",
        "                                     )\n",
        "                         )\n",
        "            )\n",
        "fig.add_trace(go.Surface(x=x_vis_1_range,\n",
        "                        y=x_vis_2_range,\n",
        "                        z=YY_vis, \n",
        "                        showscale=False\n",
        "                       )\n",
        "            )\n",
        "\n",
        "fig.update_layout(scene=dict(xaxis_title=\"x_1\",\n",
        "                            yaxis_title=\"x_2\",\n",
        "                            zaxis_title=\"y\"\n",
        "                           ),\n",
        "                 showlegend=False\n",
        "                )\n",
        "\n",
        "fig.show()"
      ],
      "execution_count": null,
      "outputs": []
    },
    {
      "cell_type": "markdown",
      "metadata": {
        "id": "sqUkkB6RgAcZ"
      },
      "source": [
        "###sklearn.linear_model.Lasso"
      ]
    },
    {
      "cell_type": "markdown",
      "metadata": {
        "id": "54YeZRMYs5Kk"
      },
      "source": [
        "4. Use scikit-learn’s sklearn.linear_model.Lasso to implement linear least squares with L1 regularization for your dataset using the default parameters."
      ]
    },
    {
      "cell_type": "code",
      "metadata": {
        "id": "WhoD76RIcjE-"
      },
      "source": [
        "from sklearn.linear_model import Lasso"
      ],
      "execution_count": null,
      "outputs": []
    },
    {
      "cell_type": "code",
      "metadata": {
        "colab": {
          "base_uri": "https://localhost:8080/"
        },
        "id": "L1UzOPTIcjFH",
        "outputId": "9310794a-dfe1-4cc5-d5a1-947d60ff185a"
      },
      "source": [
        "lasso_regressor = Lasso()\n",
        "lasso_regressor.fit(X, y)\n",
        "\n",
        "print(\"b :\", lasso_regressor.intercept_) #IS: removed [0] - invalid index of non-iterable variable\n",
        "print(\"w :\", lasso_regressor.coef_)"
      ],
      "execution_count": null,
      "outputs": [
        {
          "output_type": "stream",
          "text": [
            "b : -1.3202312314415394\n",
            "w : [-3.86678045e-02  1.06239062e+01  1.29159263e+04]\n"
          ],
          "name": "stdout"
        }
      ]
    },
    {
      "cell_type": "code",
      "metadata": {
        "colab": {
          "base_uri": "https://localhost:8080/"
        },
        "id": "G0V633vBcjFH",
        "outputId": "ed1ea939-3941-4711-eefd-15ac812a5432"
      },
      "source": [
        "from sklearn import metrics\n",
        "yhat_train = lasso_regressor.predict(X_train)\n",
        "yhat_test = lasso_regressor.predict(X_test)\n",
        "print('MAE:', metrics.mean_absolute_error(y_test, yhat_test))\n",
        "print('MSE:', metrics.mean_squared_error(y_test, yhat_test))\n",
        "print('RMSE:', np.sqrt(metrics.mean_squared_error(y_test, yhat_test)))\n",
        "print('R2:', metrics.r2_score(y_test, yhat_test))"
      ],
      "execution_count": null,
      "outputs": [
        {
          "output_type": "stream",
          "text": [
            "MAE: 295.50340835020745\n",
            "MSE: 195028.26090745203\n",
            "RMSE: 441.62004133355634\n",
            "R2: 0.9864934127954899\n"
          ],
          "name": "stdout"
        }
      ]
    },
    {
      "cell_type": "markdown",
      "metadata": {
        "id": "fOpcAra-s5U1"
      },
      "source": [
        "5. Use scikit-learn’s sklearn.linear_model.Lasso to implement linear least squares with L1 regularization for your dataset tweak the value of alpha and report your findings."
      ]
    },
    {
      "cell_type": "code",
      "metadata": {
        "id": "uHu-XTm0tHZy"
      },
      "source": [
        "from sklearn.linear_model import Lasso"
      ],
      "execution_count": null,
      "outputs": []
    },
    {
      "cell_type": "code",
      "metadata": {
        "id": "psK8JbPcH_hw",
        "colab": {
          "base_uri": "https://localhost:8080/"
        },
        "outputId": "c10a46d5-44e2-4487-be7c-9721c60ff9f4"
      },
      "source": [
        "lambda_lasso = 0.1\n",
        "\n",
        "lasso_regressor = Lasso(alpha=lambda_lasso)\n",
        "lasso_regressor.fit(X, y)\n",
        "\n",
        "print(\"b :\", lasso_regressor.intercept_) #IS: removed [0] - invalid index of non-iterable variable\n",
        "print(\"w :\", lasso_regressor.coef_)"
      ],
      "execution_count": null,
      "outputs": [
        {
          "output_type": "stream",
          "text": [
            "b : 20.5708839250683\n",
            "w : [-2.40543560e-02  9.12393926e+00  1.29366738e+04]\n"
          ],
          "name": "stdout"
        }
      ]
    },
    {
      "cell_type": "code",
      "metadata": {
        "colab": {
          "base_uri": "https://localhost:8080/"
        },
        "id": "M1yuIhw4ikW9",
        "outputId": "e5962812-1825-433e-a521-08a65321ae41"
      },
      "source": [
        "from sklearn import metrics\n",
        "yhat_train = lasso_regressor.predict(X_train)\n",
        "yhat_test = lasso_regressor.predict(X_test)\n",
        "print('MAE:', metrics.mean_absolute_error(y_test, yhat_test))\n",
        "print('MSE:', metrics.mean_squared_error(y_test, yhat_test))\n",
        "print('RMSE:', np.sqrt(metrics.mean_squared_error(y_test, yhat_test)))\n",
        "print('R2:', metrics.r2_score(y_test, yhat_test))"
      ],
      "execution_count": null,
      "outputs": [
        {
          "output_type": "stream",
          "text": [
            "MAE: 294.8065475955234\n",
            "MSE: 195315.54904429673\n",
            "RMSE: 441.94518782796666\n",
            "R2: 0.9864735167955202\n"
          ],
          "name": "stdout"
        }
      ]
    },
    {
      "cell_type": "markdown",
      "metadata": {
        "id": "hRfpDP1iiHiC"
      },
      "source": [
        "###sklearn.linear_model.GridSearchCV"
      ]
    },
    {
      "cell_type": "markdown",
      "metadata": {
        "id": "CWlo_4Y6vKwF"
      },
      "source": [
        "Grid Search Review \n"
      ]
    },
    {
      "cell_type": "code",
      "metadata": {
        "id": "S065snnbtIMR"
      },
      "source": [
        "from sklearn.model_selection import GridSearchCV"
      ],
      "execution_count": null,
      "outputs": []
    },
    {
      "cell_type": "code",
      "metadata": {
        "id": "iHBmqPLSvahN"
      },
      "source": [
        "lasso_search = GridSearchCV(estimator=Lasso(), \\\n",
        "                            cv=5, \\\n",
        "                            param_grid=dict(alpha=np.logspace(-3, 0, 50)), \\\n",
        "                            scoring='r2')"
      ],
      "execution_count": null,
      "outputs": []
    },
    {
      "cell_type": "code",
      "metadata": {
        "id": "neQ1pvUXvkhd",
        "colab": {
          "base_uri": "https://localhost:8080/"
        },
        "outputId": "1a2c325f-4125-41d8-b0c2-f728520c254d"
      },
      "source": [
        "lasso_search.fit(X_train, y_train)"
      ],
      "execution_count": null,
      "outputs": [
        {
          "output_type": "execute_result",
          "data": {
            "text/plain": [
              "GridSearchCV(cv=5, error_score=nan,\n",
              "             estimator=Lasso(alpha=1.0, copy_X=True, fit_intercept=True,\n",
              "                             max_iter=1000, normalize=False, positive=False,\n",
              "                             precompute=False, random_state=None,\n",
              "                             selection='cyclic', tol=0.0001, warm_start=False),\n",
              "             iid='deprecated', n_jobs=None,\n",
              "             param_grid={'alpha': array([0.001     , 0.0011514 , 0.00132571, 0.00152642, 0.00175751,\n",
              "       0.00202359, 0.00232995, 0.00...\n",
              "       0.01676833, 0.01930698, 0.02222996, 0.02559548, 0.02947052,\n",
              "       0.03393222, 0.0390694 , 0.04498433, 0.05179475, 0.05963623,\n",
              "       0.06866488, 0.07906043, 0.09102982, 0.10481131, 0.12067926,\n",
              "       0.13894955, 0.15998587, 0.184207  , 0.21209509, 0.24420531,\n",
              "       0.28117687, 0.32374575, 0.37275937, 0.42919343, 0.49417134,\n",
              "       0.5689866 , 0.65512856, 0.75431201, 0.86851137, 1.        ])},\n",
              "             pre_dispatch='2*n_jobs', refit=True, return_train_score=False,\n",
              "             scoring='r2', verbose=0)"
            ]
          },
          "metadata": {
            "tags": []
          },
          "execution_count": 34
        }
      ]
    },
    {
      "cell_type": "code",
      "metadata": {
        "colab": {
          "base_uri": "https://localhost:8080/"
        },
        "id": "Z5NoJpvg12Zr",
        "outputId": "f1eca203-66c1-4e86-aaa9-0cc0037faeee"
      },
      "source": [
        "from sklearn import metrics\n",
        "yhat_train = lasso_search.predict(X_train)\n",
        "yhat_test = lasso_search.predict(X_test)\n",
        "print('MAE:', metrics.mean_absolute_error(y_test, yhat_test))\n",
        "print('MSE:', metrics.mean_squared_error(y_test, yhat_test))\n",
        "print('RMSE:', np.sqrt(metrics.mean_squared_error(y_test, yhat_test)))\n",
        "print('R2:', metrics.r2_score(y_test, yhat_test))"
      ],
      "execution_count": null,
      "outputs": [
        {
          "output_type": "stream",
          "text": [
            "MAE: 294.8106947902112\n",
            "MSE: 197293.95948674114\n",
            "RMSE: 444.1778466861457\n",
            "R2: 0.986336502944077\n"
          ],
          "name": "stdout"
        }
      ]
    },
    {
      "cell_type": "code",
      "metadata": {
        "id": "ywdpfJR9vvoV",
        "colab": {
          "base_uri": "https://localhost:8080/"
        },
        "outputId": "2507cdb8-caba-4932-e86d-90351e46012a"
      },
      "source": [
        "lasso_search.best_estimator_"
      ],
      "execution_count": null,
      "outputs": [
        {
          "output_type": "execute_result",
          "data": {
            "text/plain": [
              "Lasso(alpha=0.18420699693267165, copy_X=True, fit_intercept=True, max_iter=1000,\n",
              "      normalize=False, positive=False, precompute=False, random_state=None,\n",
              "      selection='cyclic', tol=0.0001, warm_start=False)"
            ]
          },
          "metadata": {
            "tags": []
          },
          "execution_count": 36
        }
      ]
    },
    {
      "cell_type": "markdown",
      "metadata": {
        "id": "i-rgRWMksc9f"
      },
      "source": [
        "## Evaluating the Algorithm"
      ]
    },
    {
      "cell_type": "markdown",
      "metadata": {
        "id": "-TqfoGpzla2x"
      },
      "source": [
        "1. To evaluate the performance of your regressors, the commonly used metrics are mean absolute error, mean squared error, root mean squared error and r2 score.The Scikit-Learn library contains functions that can help calculate these values for us. To do so, use this code from the metrics package:\n",
        "\n",
        "from sklearn import metrics <br>\n",
        "print('Mean Absolute Error:', metrics.mean_absolute_error(y_test, y_pred)) <br>\n",
        "print('Mean Squared Error:',metrics.mean_squared_error(y_test,y_pred)) <br>\n",
        "print('Root Mean Squared Error:', <br>\n",
        "np.sqrt(metrics.mean_squared_error(y_test, y_pred))) <br>\n",
        "print('Coefficient of determination: %.2f' % r2_score (y_test,y_pred)) <br>"
      ]
    },
    {
      "cell_type": "code",
      "metadata": {
        "id": "rGLweV5ru3XK"
      },
      "source": [
        "from sklearn import metrics"
      ],
      "execution_count": null,
      "outputs": []
    },
    {
      "cell_type": "markdown",
      "metadata": {
        "id": "OWrSPebDJvQo"
      },
      "source": [
        "###RMSE\n"
      ]
    },
    {
      "cell_type": "code",
      "metadata": {
        "id": "eKmePnxmJxDa",
        "colab": {
          "base_uri": "https://localhost:8080/"
        },
        "outputId": "9cbe78d4-0951-46f7-f332-f76f20bf0a5a"
      },
      "source": [
        "rmse_train = metrics.mean_squared_error(y, yhat)\n",
        "print(\"RMSE on training data:\", rmse_train)\n",
        "rmse_test = metrics.mean_squared_error(y_test, yhat_test)\n",
        "print(\"RMSE on test data:\", rmse_test)"
      ],
      "execution_count": null,
      "outputs": [
        {
          "output_type": "stream",
          "text": [
            "RMSE on training data: 46283860.73878691\n",
            "RMSE on test data: 47314579.78652875\n"
          ],
          "name": "stdout"
        }
      ]
    },
    {
      "cell_type": "markdown",
      "metadata": {
        "id": "higP9CFOJ9SR"
      },
      "source": [
        "###MAE"
      ]
    },
    {
      "cell_type": "code",
      "metadata": {
        "id": "3U6ExbaTKCwQ",
        "colab": {
          "base_uri": "https://localhost:8080/"
        },
        "outputId": "b70b44e0-c91f-48db-9bea-c09acb886906"
      },
      "source": [
        "mae_train = metrics.mean_absolute_error(y, yhat)\n",
        "print(\"MAE on training data:\", mae_train)\n",
        "mae_test = metrics.mean_absolute_error(y_test, yhat_test)\n",
        "print(\"MAE on test data:\", mae_test)"
      ],
      "execution_count": null,
      "outputs": [
        {
          "output_type": "stream",
          "text": [
            "MAE on training data: 5606.055928611738\n",
            "MAE on test data: 5736.57659920749\n"
          ],
          "name": "stdout"
        }
      ]
    },
    {
      "cell_type": "markdown",
      "metadata": {
        "id": "nUs6qXXUKIrj"
      },
      "source": [
        "###R2  score"
      ]
    },
    {
      "cell_type": "code",
      "metadata": {
        "id": "OD9fPgLaKY9N",
        "colab": {
          "base_uri": "https://localhost:8080/"
        },
        "outputId": "1ddba57e-b447-478d-9344-8b77e8de9a8a"
      },
      "source": [
        "r_squared_train = metrics.r2_score(y, yhat)\n",
        "print(\"R-squared on training data:\", r_squared_train)\n",
        "r_squared_test = metrics.r2_score(y_test, yhat_test)\n",
        "print(\"R-squared on test data:\", r_squared_test)"
      ],
      "execution_count": null,
      "outputs": [
        {
          "output_type": "stream",
          "text": [
            "R-squared on training data: -2.1059494071232314\n",
            "R-squared on test data: -2.276748174638943\n"
          ],
          "name": "stdout"
        }
      ]
    },
    {
      "cell_type": "markdown",
      "metadata": {
        "id": "gtcitCcVm-gx"
      },
      "source": [
        "## QuAM Comparison"
      ]
    },
    {
      "cell_type": "markdown",
      "metadata": {
        "id": "umHGl9iWm_et"
      },
      "source": [
        "Compare your Regressors: provide a comparison table of the performance for all of the QuAMs you’ve built using the different losses. This is a practice you should get in the habit of doing as a technician to quickly evaluate which QuAMs work well and which don’t. It will also serve as a communication tool to summarize to stakeholders what you’ve tried, what worked best, and why.\n"
      ]
    },
    {
      "cell_type": "markdown",
      "metadata": {
        "id": "_YtgczPGXeP5"
      },
      "source": [
        "<table>\n",
        "<caption><strong><h2>Team 6 QuAM comparison\n",
        "\t<tr>\n",
        "\t\t<th>Algorithm</th>\n",
        "\t\t<th>MAE</th>\n",
        "\t\t<th>MSE</th>\n",
        "    <th>RMSE</th>\n",
        "    <th>R2 Score</th>\n",
        "\t</tr>\n",
        "\t<tr>\n",
        "\t\t<td> sklearn.linear_model.LinearRegression\n",
        "\t\t<td> 294.73262\n",
        "\t\t<td> 195349.53508 \n",
        "    <td> 441.98364\n",
        "\t\t<td> 0.98647\n",
        "\t</tr>\n",
        "\t\t<tr>\n",
        "\t\t<td> sklearn.linear_model.Ridge\n",
        "\t\t<td> 295.36534\n",
        "    <td> 195055.36486\n",
        "    <td> 441.65073\n",
        "    <td> 0.98650\n",
        "\t</tr>\n",
        "  \t<tr>\n",
        "\t\t<td> sklearn.linear_model.Lasso\n",
        "\t\t<td> 294.80655\n",
        "    <td> 195315.54904\n",
        "    <td> 441.94519\n",
        "    <td> 0.98647\n",
        "\t</tr>\n",
        "  \t<tr>\n",
        "\t\t<td> sklearn.linear_model.GridSearchCV\n",
        "\t\t<td> 294.81069\n",
        "    <td> 197293.95949\n",
        "    <td> 444.17785\n",
        "    <td> 0.98633\n",
        "\t</tr>\n",
        "\n",
        "</table>"
      ]
    }
  ]
}